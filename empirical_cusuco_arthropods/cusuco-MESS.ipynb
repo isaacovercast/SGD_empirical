{
 "cells": [
  {
   "cell_type": "code",
   "execution_count": 4,
   "metadata": {},
   "outputs": [
    {
     "name": "stdout",
     "output_type": "stream",
     "text": [
      "The autoreload extension is already loaded. To reload it, use:\n",
      "  %reload_ext autoreload\n"
     ]
    }
   ],
   "source": [
    "%load_ext autoreload\n",
    "%autoreload 2\n",
    "%matplotlib inline\n",
    "\n",
    "import matplotlib.pyplot as plt\n",
    "import glob\n",
    "import numpy as np\n",
    "import pandas as pd\n",
    "import itertools\n",
    "import ipyparallel as ipp\n",
    "import os\n",
    "import shutil\n",
    "import easyCGD\n",
    "\n",
    "pd.set_option('display.max_columns', 500)\n",
    "pd.set_option('display.width', 1000)\n",
    "    \n",
    "prefix = \"/home/isaac/SGD_empirical/empirical_cusuco_arthropods/\"\n",
    "fastadir = prefix + \"fastas/\""
   ]
  },
  {
   "cell_type": "code",
   "execution_count": 3,
   "metadata": {},
   "outputs": [
    {
     "data": {
      "text/plain": [
       "['El_Danto', 'Base_Camp', 'El_Cortecito', 'Cantiles', 'Guanales']"
      ]
     },
     "execution_count": 3,
     "metadata": {},
     "output_type": "execute_result"
    }
   ],
   "source": [
    "meta = pd.read_csv(\"bold_data.txt\", sep=\"\\t\", index_col=0)\n",
    "meta[\"exactsite\"] = meta[\"exactsite\"].str.replace(\" \", \"_\")\n",
    "sites = list(set(meta[\"exactsite\"]))\n",
    "sites"
   ]
  },
  {
   "cell_type": "code",
   "execution_count": 8,
   "metadata": {},
   "outputs": [
    {
     "name": "stdout",
     "output_type": "stream",
     "text": [
      "2500 /home/isaac/SGD_empirical/empirical_cusuco_arthropods/fastas/Base_Camp.pis\n",
      "704 /home/isaac/SGD_empirical/empirical_cusuco_arthropods/fastas/El_Cortecito.pis\n",
      "1714 /home/isaac/SGD_empirical/empirical_cusuco_arthropods/fastas/Cantiles.pis\n",
      "4967 /home/isaac/SGD_empirical/empirical_cusuco_arthropods/fastas/Guanales.pis\n",
      "350 /home/isaac/SGD_empirical/empirical_cusuco_arthropods/fastas/El_Danto.pis\n"
     ]
    }
   ],
   "source": [
    "for f in glob.glob(fastadir+\"*.pis\"):\n",
    "    !wc -l $f"
   ]
  }
 ],
 "metadata": {
  "kernelspec": {
   "display_name": "Python 3",
   "language": "python",
   "name": "python3"
  },
  "language_info": {
   "codemirror_mode": {
    "name": "ipython",
    "version": 3
   },
   "file_extension": ".py",
   "mimetype": "text/x-python",
   "name": "python",
   "nbconvert_exporter": "python",
   "pygments_lexer": "ipython3",
   "version": "3.6.6"
  }
 },
 "nbformat": 4,
 "nbformat_minor": 2
}
